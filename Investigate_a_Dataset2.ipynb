{
 "cells": [
  {
   "cell_type": "markdown",
   "metadata": {},
   "source": [
    "\n",
    "\n",
    "# Project: Investigate a Dataset - No-show appointments\n",
    "\n",
    "## Table of Contents\n",
    "<ul>\n",
    "<li><a href=\"#intro\">Introduction</a></li>\n",
    "<li><a href=\"#wrangling\">Data Wrangling</a></li>\n",
    "<li><a href=\"#eda\">Exploratory Data Analysis</a></li>\n",
    "<li><a href=\"#conclusions\">Conclusions</a></li>\n",
    "</ul>"
   ]
  },
  {
   "cell_type": "markdown",
   "metadata": {},
   "source": [
    "<a id='intro'></a>\n",
    "## Introduction\n",
    "\n",
    "### Dataset Description \n",
    "\n",
    "> This dataset focuses on the issue of whether or not people show up for their appointment and gathers data from 110k medical appointments in Brazil. Each column contains a number of patient-related characteristics as follows :\n",
    "\n",
    "  + PatientId            : Identification of a patient.\n",
    "  + AppointmentID        : Identification of each appointment.\n",
    "  + Gender               : Male or Female.\n",
    "  + DataMarcacaoConsulta : The day of the actuall appointment, when they have to visit the doctor.\n",
    "  + DataAgendamento      : The day someone called or registered the appointment, this is before appointment of course.\n",
    "  + Age                  : How old is the patient.\n",
    "  + Neighbourhood        : Where the appointment takes place.\n",
    "  + Scholarship          : True of False ( Scholarship is \"Bolsa Família\" was a social welfare program of the Government of Brazil ).\n",
    "  + Hipertension         : True or False\n",
    "  + Diabetes             : True or False\n",
    "  + Alcoholism           : True or False\n",
    "  + Handcap              : True or False\n",
    "  + SMS_received         : 1 or more messages sent to the patient.\n",
    "  + No-show              : True or False.\n",
    "\n",
    "### Question(s) for Analysis\n",
    "\n",
    "1. What is the percentage of patients who fail to show up for their appointments?\n",
    "2. Does a patient's age have any bearing on whether they keep an appointment?\n",
    "3. Do patients with a scholorship show up more for their appointments?\n",
    "4. Do patients with disabilities attend their appointments more  often?\n",
    "5. Which gender has the highest likelihood of missing an appointment?\n",
    "6. Do clients who receive SMS reminders show up more for their appointments?\n",
    "7. Do patients who have scheduled appointments for the same day show up more for their appointments? "
   ]
  },
  {
   "cell_type": "code",
   "execution_count": 1,
   "metadata": {},
   "outputs": [],
   "source": [
    "# the packages used in this analysis \n",
    "import pandas as pd\n",
    "import numpy as np\n",
    "import matplotlib.pyplot as plt\n",
    "import seaborn as sns\n",
    "% matplotlib inline"
   ]
  },
  {
   "cell_type": "code",
   "execution_count": 2,
   "metadata": {},
   "outputs": [],
   "source": [
    "# percentage function used in this analysis \n",
    "def percentage(dividend , divisor):\n",
    "  percentage = 100 * dividend / divisor\n",
    "  percentage = float('%.2f' % round(percentage, 2))\n",
    "  return percentage "
   ]
  },
  {
   "cell_type": "code",
   "execution_count": 3,
   "metadata": {},
   "outputs": [],
   "source": [
    "# fonction to print the presentage\n",
    "def print_percentage (the_percentage ):\n",
    " print(f\"the percentage is {the_percentage}%.\")"
   ]
  },
  {
   "cell_type": "markdown",
   "metadata": {},
   "source": [
    "<a id='wrangling'></a>\n",
    "## Data Wrangling\n",
    "\n"
   ]
  },
  {
   "cell_type": "markdown",
   "metadata": {},
   "source": [
    " This section explores the unprocessed data."
   ]
  },
  {
   "cell_type": "code",
   "execution_count": 4,
   "metadata": {},
   "outputs": [
    {
     "data": {
      "text/html": [
       "<div>\n",
       "<style scoped>\n",
       "    .dataframe tbody tr th:only-of-type {\n",
       "        vertical-align: middle;\n",
       "    }\n",
       "\n",
       "    .dataframe tbody tr th {\n",
       "        vertical-align: top;\n",
       "    }\n",
       "\n",
       "    .dataframe thead th {\n",
       "        text-align: right;\n",
       "    }\n",
       "</style>\n",
       "<table border=\"1\" class=\"dataframe\">\n",
       "  <thead>\n",
       "    <tr style=\"text-align: right;\">\n",
       "      <th></th>\n",
       "      <th>PatientId</th>\n",
       "      <th>AppointmentID</th>\n",
       "      <th>Gender</th>\n",
       "      <th>ScheduledDay</th>\n",
       "      <th>AppointmentDay</th>\n",
       "      <th>Age</th>\n",
       "      <th>Neighbourhood</th>\n",
       "      <th>Scholarship</th>\n",
       "      <th>Hipertension</th>\n",
       "      <th>Diabetes</th>\n",
       "      <th>Alcoholism</th>\n",
       "      <th>Handcap</th>\n",
       "      <th>SMS_received</th>\n",
       "      <th>No-show</th>\n",
       "    </tr>\n",
       "  </thead>\n",
       "  <tbody>\n",
       "    <tr>\n",
       "      <th>0</th>\n",
       "      <td>2.987250e+13</td>\n",
       "      <td>5642903</td>\n",
       "      <td>F</td>\n",
       "      <td>2016-04-29T18:38:08Z</td>\n",
       "      <td>2016-04-29T00:00:00Z</td>\n",
       "      <td>62</td>\n",
       "      <td>JARDIM DA PENHA</td>\n",
       "      <td>0</td>\n",
       "      <td>1</td>\n",
       "      <td>0</td>\n",
       "      <td>0</td>\n",
       "      <td>0</td>\n",
       "      <td>0</td>\n",
       "      <td>No</td>\n",
       "    </tr>\n",
       "    <tr>\n",
       "      <th>1</th>\n",
       "      <td>5.589978e+14</td>\n",
       "      <td>5642503</td>\n",
       "      <td>M</td>\n",
       "      <td>2016-04-29T16:08:27Z</td>\n",
       "      <td>2016-04-29T00:00:00Z</td>\n",
       "      <td>56</td>\n",
       "      <td>JARDIM DA PENHA</td>\n",
       "      <td>0</td>\n",
       "      <td>0</td>\n",
       "      <td>0</td>\n",
       "      <td>0</td>\n",
       "      <td>0</td>\n",
       "      <td>0</td>\n",
       "      <td>No</td>\n",
       "    </tr>\n",
       "    <tr>\n",
       "      <th>2</th>\n",
       "      <td>4.262962e+12</td>\n",
       "      <td>5642549</td>\n",
       "      <td>F</td>\n",
       "      <td>2016-04-29T16:19:04Z</td>\n",
       "      <td>2016-04-29T00:00:00Z</td>\n",
       "      <td>62</td>\n",
       "      <td>MATA DA PRAIA</td>\n",
       "      <td>0</td>\n",
       "      <td>0</td>\n",
       "      <td>0</td>\n",
       "      <td>0</td>\n",
       "      <td>0</td>\n",
       "      <td>0</td>\n",
       "      <td>No</td>\n",
       "    </tr>\n",
       "    <tr>\n",
       "      <th>3</th>\n",
       "      <td>8.679512e+11</td>\n",
       "      <td>5642828</td>\n",
       "      <td>F</td>\n",
       "      <td>2016-04-29T17:29:31Z</td>\n",
       "      <td>2016-04-29T00:00:00Z</td>\n",
       "      <td>8</td>\n",
       "      <td>PONTAL DE CAMBURI</td>\n",
       "      <td>0</td>\n",
       "      <td>0</td>\n",
       "      <td>0</td>\n",
       "      <td>0</td>\n",
       "      <td>0</td>\n",
       "      <td>0</td>\n",
       "      <td>No</td>\n",
       "    </tr>\n",
       "    <tr>\n",
       "      <th>4</th>\n",
       "      <td>8.841186e+12</td>\n",
       "      <td>5642494</td>\n",
       "      <td>F</td>\n",
       "      <td>2016-04-29T16:07:23Z</td>\n",
       "      <td>2016-04-29T00:00:00Z</td>\n",
       "      <td>56</td>\n",
       "      <td>JARDIM DA PENHA</td>\n",
       "      <td>0</td>\n",
       "      <td>1</td>\n",
       "      <td>1</td>\n",
       "      <td>0</td>\n",
       "      <td>0</td>\n",
       "      <td>0</td>\n",
       "      <td>No</td>\n",
       "    </tr>\n",
       "  </tbody>\n",
       "</table>\n",
       "</div>"
      ],
      "text/plain": [
       "      PatientId  AppointmentID Gender          ScheduledDay  \\\n",
       "0  2.987250e+13        5642903      F  2016-04-29T18:38:08Z   \n",
       "1  5.589978e+14        5642503      M  2016-04-29T16:08:27Z   \n",
       "2  4.262962e+12        5642549      F  2016-04-29T16:19:04Z   \n",
       "3  8.679512e+11        5642828      F  2016-04-29T17:29:31Z   \n",
       "4  8.841186e+12        5642494      F  2016-04-29T16:07:23Z   \n",
       "\n",
       "         AppointmentDay  Age      Neighbourhood  Scholarship  Hipertension  \\\n",
       "0  2016-04-29T00:00:00Z   62    JARDIM DA PENHA            0             1   \n",
       "1  2016-04-29T00:00:00Z   56    JARDIM DA PENHA            0             0   \n",
       "2  2016-04-29T00:00:00Z   62      MATA DA PRAIA            0             0   \n",
       "3  2016-04-29T00:00:00Z    8  PONTAL DE CAMBURI            0             0   \n",
       "4  2016-04-29T00:00:00Z   56    JARDIM DA PENHA            0             1   \n",
       "\n",
       "   Diabetes  Alcoholism  Handcap  SMS_received No-show  \n",
       "0         0           0        0             0      No  \n",
       "1         0           0        0             0      No  \n",
       "2         0           0        0             0      No  \n",
       "3         0           0        0             0      No  \n",
       "4         1           0        0             0      No  "
      ]
     },
     "execution_count": 4,
     "metadata": {},
     "output_type": "execute_result"
    }
   ],
   "source": [
    "# loading the dataset\n",
    "df_appointments = pd.read_csv('noshowappointments-kagglev2-may-2016.csv')\n",
    "df_appointments.head() \n",
    "# Renaming the dataset\n",
    "df_app = df_appointments\n",
    "df_app.head()"
   ]
  },
  {
   "cell_type": "code",
   "execution_count": 5,
   "metadata": {},
   "outputs": [
    {
     "data": {
      "text/plain": [
       "(110527, 14)"
      ]
     },
     "execution_count": 5,
     "metadata": {},
     "output_type": "execute_result"
    }
   ],
   "source": [
    "# Exploring the shape of the dataset\n",
    "df_app.shape"
   ]
  },
  {
   "cell_type": "markdown",
   "metadata": {},
   "source": [
    "This means there is 110527 entries and 14 columns as shown in the cell above ."
   ]
  },
  {
   "cell_type": "code",
   "execution_count": 6,
   "metadata": {},
   "outputs": [
    {
     "name": "stdout",
     "output_type": "stream",
     "text": [
      "<class 'pandas.core.frame.DataFrame'>\n",
      "RangeIndex: 110527 entries, 0 to 110526\n",
      "Data columns (total 14 columns):\n",
      "PatientId         110527 non-null float64\n",
      "AppointmentID     110527 non-null int64\n",
      "Gender            110527 non-null object\n",
      "ScheduledDay      110527 non-null object\n",
      "AppointmentDay    110527 non-null object\n",
      "Age               110527 non-null int64\n",
      "Neighbourhood     110527 non-null object\n",
      "Scholarship       110527 non-null int64\n",
      "Hipertension      110527 non-null int64\n",
      "Diabetes          110527 non-null int64\n",
      "Alcoholism        110527 non-null int64\n",
      "Handcap           110527 non-null int64\n",
      "SMS_received      110527 non-null int64\n",
      "No-show           110527 non-null object\n",
      "dtypes: float64(1), int64(8), object(5)\n",
      "memory usage: 11.8+ MB\n"
     ]
    }
   ],
   "source": [
    "# Searching for informations about the dataset\n",
    "df_app.info()"
   ]
  },
  {
   "cell_type": "markdown",
   "metadata": {},
   "source": [
    "The cell above shows the different types of values that each column contains ( float , ints and strings ) . Since there are 110527 entries and each column has 110527 non-null values, we can conclude that there are no null values in this dataset. "
   ]
  },
  {
   "cell_type": "code",
   "execution_count": 7,
   "metadata": {},
   "outputs": [
    {
     "data": {
      "text/html": [
       "<div>\n",
       "<style scoped>\n",
       "    .dataframe tbody tr th:only-of-type {\n",
       "        vertical-align: middle;\n",
       "    }\n",
       "\n",
       "    .dataframe tbody tr th {\n",
       "        vertical-align: top;\n",
       "    }\n",
       "\n",
       "    .dataframe thead th {\n",
       "        text-align: right;\n",
       "    }\n",
       "</style>\n",
       "<table border=\"1\" class=\"dataframe\">\n",
       "  <thead>\n",
       "    <tr style=\"text-align: right;\">\n",
       "      <th></th>\n",
       "      <th>PatientId</th>\n",
       "      <th>AppointmentID</th>\n",
       "      <th>Age</th>\n",
       "      <th>Scholarship</th>\n",
       "      <th>Hipertension</th>\n",
       "      <th>Diabetes</th>\n",
       "      <th>Alcoholism</th>\n",
       "      <th>Handcap</th>\n",
       "      <th>SMS_received</th>\n",
       "    </tr>\n",
       "  </thead>\n",
       "  <tbody>\n",
       "    <tr>\n",
       "      <th>count</th>\n",
       "      <td>1.105270e+05</td>\n",
       "      <td>1.105270e+05</td>\n",
       "      <td>110527.000000</td>\n",
       "      <td>110527.000000</td>\n",
       "      <td>110527.000000</td>\n",
       "      <td>110527.000000</td>\n",
       "      <td>110527.000000</td>\n",
       "      <td>110527.000000</td>\n",
       "      <td>110527.000000</td>\n",
       "    </tr>\n",
       "    <tr>\n",
       "      <th>mean</th>\n",
       "      <td>1.474963e+14</td>\n",
       "      <td>5.675305e+06</td>\n",
       "      <td>37.088874</td>\n",
       "      <td>0.098266</td>\n",
       "      <td>0.197246</td>\n",
       "      <td>0.071865</td>\n",
       "      <td>0.030400</td>\n",
       "      <td>0.022248</td>\n",
       "      <td>0.321026</td>\n",
       "    </tr>\n",
       "    <tr>\n",
       "      <th>std</th>\n",
       "      <td>2.560949e+14</td>\n",
       "      <td>7.129575e+04</td>\n",
       "      <td>23.110205</td>\n",
       "      <td>0.297675</td>\n",
       "      <td>0.397921</td>\n",
       "      <td>0.258265</td>\n",
       "      <td>0.171686</td>\n",
       "      <td>0.161543</td>\n",
       "      <td>0.466873</td>\n",
       "    </tr>\n",
       "    <tr>\n",
       "      <th>min</th>\n",
       "      <td>3.921784e+04</td>\n",
       "      <td>5.030230e+06</td>\n",
       "      <td>-1.000000</td>\n",
       "      <td>0.000000</td>\n",
       "      <td>0.000000</td>\n",
       "      <td>0.000000</td>\n",
       "      <td>0.000000</td>\n",
       "      <td>0.000000</td>\n",
       "      <td>0.000000</td>\n",
       "    </tr>\n",
       "    <tr>\n",
       "      <th>25%</th>\n",
       "      <td>4.172614e+12</td>\n",
       "      <td>5.640286e+06</td>\n",
       "      <td>18.000000</td>\n",
       "      <td>0.000000</td>\n",
       "      <td>0.000000</td>\n",
       "      <td>0.000000</td>\n",
       "      <td>0.000000</td>\n",
       "      <td>0.000000</td>\n",
       "      <td>0.000000</td>\n",
       "    </tr>\n",
       "    <tr>\n",
       "      <th>50%</th>\n",
       "      <td>3.173184e+13</td>\n",
       "      <td>5.680573e+06</td>\n",
       "      <td>37.000000</td>\n",
       "      <td>0.000000</td>\n",
       "      <td>0.000000</td>\n",
       "      <td>0.000000</td>\n",
       "      <td>0.000000</td>\n",
       "      <td>0.000000</td>\n",
       "      <td>0.000000</td>\n",
       "    </tr>\n",
       "    <tr>\n",
       "      <th>75%</th>\n",
       "      <td>9.439172e+13</td>\n",
       "      <td>5.725524e+06</td>\n",
       "      <td>55.000000</td>\n",
       "      <td>0.000000</td>\n",
       "      <td>0.000000</td>\n",
       "      <td>0.000000</td>\n",
       "      <td>0.000000</td>\n",
       "      <td>0.000000</td>\n",
       "      <td>1.000000</td>\n",
       "    </tr>\n",
       "    <tr>\n",
       "      <th>max</th>\n",
       "      <td>9.999816e+14</td>\n",
       "      <td>5.790484e+06</td>\n",
       "      <td>115.000000</td>\n",
       "      <td>1.000000</td>\n",
       "      <td>1.000000</td>\n",
       "      <td>1.000000</td>\n",
       "      <td>1.000000</td>\n",
       "      <td>4.000000</td>\n",
       "      <td>1.000000</td>\n",
       "    </tr>\n",
       "  </tbody>\n",
       "</table>\n",
       "</div>"
      ],
      "text/plain": [
       "          PatientId  AppointmentID            Age    Scholarship  \\\n",
       "count  1.105270e+05   1.105270e+05  110527.000000  110527.000000   \n",
       "mean   1.474963e+14   5.675305e+06      37.088874       0.098266   \n",
       "std    2.560949e+14   7.129575e+04      23.110205       0.297675   \n",
       "min    3.921784e+04   5.030230e+06      -1.000000       0.000000   \n",
       "25%    4.172614e+12   5.640286e+06      18.000000       0.000000   \n",
       "50%    3.173184e+13   5.680573e+06      37.000000       0.000000   \n",
       "75%    9.439172e+13   5.725524e+06      55.000000       0.000000   \n",
       "max    9.999816e+14   5.790484e+06     115.000000       1.000000   \n",
       "\n",
       "        Hipertension       Diabetes     Alcoholism        Handcap  \\\n",
       "count  110527.000000  110527.000000  110527.000000  110527.000000   \n",
       "mean        0.197246       0.071865       0.030400       0.022248   \n",
       "std         0.397921       0.258265       0.171686       0.161543   \n",
       "min         0.000000       0.000000       0.000000       0.000000   \n",
       "25%         0.000000       0.000000       0.000000       0.000000   \n",
       "50%         0.000000       0.000000       0.000000       0.000000   \n",
       "75%         0.000000       0.000000       0.000000       0.000000   \n",
       "max         1.000000       1.000000       1.000000       4.000000   \n",
       "\n",
       "        SMS_received  \n",
       "count  110527.000000  \n",
       "mean        0.321026  \n",
       "std         0.466873  \n",
       "min         0.000000  \n",
       "25%         0.000000  \n",
       "50%         0.000000  \n",
       "75%         1.000000  \n",
       "max         1.000000  "
      ]
     },
     "execution_count": 7,
     "metadata": {},
     "output_type": "execute_result"
    }
   ],
   "source": [
    "# Searching for more informations about the dataset\n",
    "df_app.describe()"
   ]
  },
  {
   "cell_type": "markdown",
   "metadata": {},
   "source": [
    "The information in the table above shows that the average patient age is 37, that the ages range from 0 to 115, and that because the dataset only contains true or false values, the maximum and lowest values for the other columns are 0 and 1, respectively."
   ]
  },
  {
   "cell_type": "code",
   "execution_count": 8,
   "metadata": {},
   "outputs": [
    {
     "data": {
      "text/plain": [
       "PatientId          62299\n",
       "AppointmentID     110527\n",
       "Gender                 2\n",
       "ScheduledDay      103549\n",
       "AppointmentDay        27\n",
       "Age                  104\n",
       "Neighbourhood         81\n",
       "Scholarship            2\n",
       "Hipertension           2\n",
       "Diabetes               2\n",
       "Alcoholism             2\n",
       "Handcap                5\n",
       "SMS_received           2\n",
       "No-show                2\n",
       "dtype: int64"
      ]
     },
     "execution_count": 8,
     "metadata": {},
     "output_type": "execute_result"
    }
   ],
   "source": [
    "# Searching for informations about the colomns\n",
    "df_app.nunique()"
   ]
  },
  {
   "cell_type": "markdown",
   "metadata": {},
   "source": [
    "This database contains 62299 patients, 110527 appointments, male and female genders, 104 different ages, from 81 different neighborhoods, whether the patient showed up or not, received an SMS or not, and if he has a (scholarship, hypertension, diabetes, alcoholism, handicap) or not."
   ]
  },
  {
   "cell_type": "markdown",
   "metadata": {},
   "source": [
    "\n",
    "### Data Cleaning\n",
    "\n",
    " "
   ]
  },
  {
   "cell_type": "markdown",
   "metadata": {},
   "source": [
    "This section will detail the adjustments made to this dataset to improve its efficiency."
   ]
  },
  {
   "cell_type": "markdown",
   "metadata": {},
   "source": [
    "To begin, let us lower case the names of the colomns to avoid errors caused by capital letters in a colomn name."
   ]
  },
  {
   "cell_type": "code",
   "execution_count": 9,
   "metadata": {},
   "outputs": [
    {
     "data": {
      "text/html": [
       "<div>\n",
       "<style scoped>\n",
       "    .dataframe tbody tr th:only-of-type {\n",
       "        vertical-align: middle;\n",
       "    }\n",
       "\n",
       "    .dataframe tbody tr th {\n",
       "        vertical-align: top;\n",
       "    }\n",
       "\n",
       "    .dataframe thead th {\n",
       "        text-align: right;\n",
       "    }\n",
       "</style>\n",
       "<table border=\"1\" class=\"dataframe\">\n",
       "  <thead>\n",
       "    <tr style=\"text-align: right;\">\n",
       "      <th></th>\n",
       "      <th>patientid</th>\n",
       "      <th>appointmentid</th>\n",
       "      <th>gender</th>\n",
       "      <th>scheduledday</th>\n",
       "      <th>appointmentday</th>\n",
       "      <th>age</th>\n",
       "      <th>neighbourhood</th>\n",
       "      <th>scholarship</th>\n",
       "      <th>hipertension</th>\n",
       "      <th>diabetes</th>\n",
       "      <th>alcoholism</th>\n",
       "      <th>handcap</th>\n",
       "      <th>sms_received</th>\n",
       "      <th>no-show</th>\n",
       "    </tr>\n",
       "  </thead>\n",
       "  <tbody>\n",
       "    <tr>\n",
       "      <th>0</th>\n",
       "      <td>2.987250e+13</td>\n",
       "      <td>5642903</td>\n",
       "      <td>F</td>\n",
       "      <td>2016-04-29T18:38:08Z</td>\n",
       "      <td>2016-04-29T00:00:00Z</td>\n",
       "      <td>62</td>\n",
       "      <td>JARDIM DA PENHA</td>\n",
       "      <td>0</td>\n",
       "      <td>1</td>\n",
       "      <td>0</td>\n",
       "      <td>0</td>\n",
       "      <td>0</td>\n",
       "      <td>0</td>\n",
       "      <td>No</td>\n",
       "    </tr>\n",
       "  </tbody>\n",
       "</table>\n",
       "</div>"
      ],
      "text/plain": [
       "      patientid  appointmentid gender          scheduledday  \\\n",
       "0  2.987250e+13        5642903      F  2016-04-29T18:38:08Z   \n",
       "\n",
       "         appointmentday  age    neighbourhood  scholarship  hipertension  \\\n",
       "0  2016-04-29T00:00:00Z   62  JARDIM DA PENHA            0             1   \n",
       "\n",
       "   diabetes  alcoholism  handcap  sms_received no-show  \n",
       "0         0           0        0             0      No  "
      ]
     },
     "execution_count": 9,
     "metadata": {},
     "output_type": "execute_result"
    }
   ],
   "source": [
    "df_app.columns= df_app.columns.str.lower()\n",
    "df_app.head(1)"
   ]
  },
  {
   "cell_type": "markdown",
   "metadata": {},
   "source": [
    "Let's rename the column \"no-show\" to \"no_show\" in order to prevent errors caused by the hyphen sign."
   ]
  },
  {
   "cell_type": "code",
   "execution_count": 10,
   "metadata": {},
   "outputs": [
    {
     "data": {
      "text/html": [
       "<div>\n",
       "<style scoped>\n",
       "    .dataframe tbody tr th:only-of-type {\n",
       "        vertical-align: middle;\n",
       "    }\n",
       "\n",
       "    .dataframe tbody tr th {\n",
       "        vertical-align: top;\n",
       "    }\n",
       "\n",
       "    .dataframe thead th {\n",
       "        text-align: right;\n",
       "    }\n",
       "</style>\n",
       "<table border=\"1\" class=\"dataframe\">\n",
       "  <thead>\n",
       "    <tr style=\"text-align: right;\">\n",
       "      <th></th>\n",
       "      <th>appointmentid</th>\n",
       "      <th>no_show</th>\n",
       "    </tr>\n",
       "  </thead>\n",
       "  <tbody>\n",
       "    <tr>\n",
       "      <th>0</th>\n",
       "      <td>5642903</td>\n",
       "      <td>No</td>\n",
       "    </tr>\n",
       "    <tr>\n",
       "      <th>1</th>\n",
       "      <td>5642503</td>\n",
       "      <td>No</td>\n",
       "    </tr>\n",
       "    <tr>\n",
       "      <th>2</th>\n",
       "      <td>5642549</td>\n",
       "      <td>No</td>\n",
       "    </tr>\n",
       "    <tr>\n",
       "      <th>3</th>\n",
       "      <td>5642828</td>\n",
       "      <td>No</td>\n",
       "    </tr>\n",
       "    <tr>\n",
       "      <th>4</th>\n",
       "      <td>5642494</td>\n",
       "      <td>No</td>\n",
       "    </tr>\n",
       "  </tbody>\n",
       "</table>\n",
       "</div>"
      ],
      "text/plain": [
       "   appointmentid no_show\n",
       "0        5642903      No\n",
       "1        5642503      No\n",
       "2        5642549      No\n",
       "3        5642828      No\n",
       "4        5642494      No"
      ]
     },
     "execution_count": 10,
     "metadata": {},
     "output_type": "execute_result"
    }
   ],
   "source": [
    "df_app.rename(columns = {'no-show':'no_show'}, inplace = True)\n",
    "df_app[['appointmentid','no_show']].head()"
   ]
  },
  {
   "cell_type": "markdown",
   "metadata": {},
   "source": [
    "Let's search for more changes that can be made to this dataset."
   ]
  },
  {
   "cell_type": "code",
   "execution_count": 11,
   "metadata": {
    "scrolled": true
   },
   "outputs": [
    {
     "data": {
      "text/html": [
       "<div>\n",
       "<style scoped>\n",
       "    .dataframe tbody tr th:only-of-type {\n",
       "        vertical-align: middle;\n",
       "    }\n",
       "\n",
       "    .dataframe tbody tr th {\n",
       "        vertical-align: top;\n",
       "    }\n",
       "\n",
       "    .dataframe thead th {\n",
       "        text-align: right;\n",
       "    }\n",
       "</style>\n",
       "<table border=\"1\" class=\"dataframe\">\n",
       "  <thead>\n",
       "    <tr style=\"text-align: right;\">\n",
       "      <th></th>\n",
       "      <th>patientid</th>\n",
       "      <th>appointmentid</th>\n",
       "      <th>age</th>\n",
       "      <th>scholarship</th>\n",
       "      <th>hipertension</th>\n",
       "      <th>diabetes</th>\n",
       "      <th>alcoholism</th>\n",
       "      <th>handcap</th>\n",
       "      <th>sms_received</th>\n",
       "    </tr>\n",
       "  </thead>\n",
       "  <tbody>\n",
       "    <tr>\n",
       "      <th>count</th>\n",
       "      <td>1.105270e+05</td>\n",
       "      <td>1.105270e+05</td>\n",
       "      <td>110527.000000</td>\n",
       "      <td>110527.000000</td>\n",
       "      <td>110527.000000</td>\n",
       "      <td>110527.000000</td>\n",
       "      <td>110527.000000</td>\n",
       "      <td>110527.000000</td>\n",
       "      <td>110527.000000</td>\n",
       "    </tr>\n",
       "    <tr>\n",
       "      <th>mean</th>\n",
       "      <td>1.474963e+14</td>\n",
       "      <td>5.675305e+06</td>\n",
       "      <td>37.088874</td>\n",
       "      <td>0.098266</td>\n",
       "      <td>0.197246</td>\n",
       "      <td>0.071865</td>\n",
       "      <td>0.030400</td>\n",
       "      <td>0.022248</td>\n",
       "      <td>0.321026</td>\n",
       "    </tr>\n",
       "    <tr>\n",
       "      <th>std</th>\n",
       "      <td>2.560949e+14</td>\n",
       "      <td>7.129575e+04</td>\n",
       "      <td>23.110205</td>\n",
       "      <td>0.297675</td>\n",
       "      <td>0.397921</td>\n",
       "      <td>0.258265</td>\n",
       "      <td>0.171686</td>\n",
       "      <td>0.161543</td>\n",
       "      <td>0.466873</td>\n",
       "    </tr>\n",
       "    <tr>\n",
       "      <th>min</th>\n",
       "      <td>3.921784e+04</td>\n",
       "      <td>5.030230e+06</td>\n",
       "      <td>-1.000000</td>\n",
       "      <td>0.000000</td>\n",
       "      <td>0.000000</td>\n",
       "      <td>0.000000</td>\n",
       "      <td>0.000000</td>\n",
       "      <td>0.000000</td>\n",
       "      <td>0.000000</td>\n",
       "    </tr>\n",
       "    <tr>\n",
       "      <th>25%</th>\n",
       "      <td>4.172614e+12</td>\n",
       "      <td>5.640286e+06</td>\n",
       "      <td>18.000000</td>\n",
       "      <td>0.000000</td>\n",
       "      <td>0.000000</td>\n",
       "      <td>0.000000</td>\n",
       "      <td>0.000000</td>\n",
       "      <td>0.000000</td>\n",
       "      <td>0.000000</td>\n",
       "    </tr>\n",
       "    <tr>\n",
       "      <th>50%</th>\n",
       "      <td>3.173184e+13</td>\n",
       "      <td>5.680573e+06</td>\n",
       "      <td>37.000000</td>\n",
       "      <td>0.000000</td>\n",
       "      <td>0.000000</td>\n",
       "      <td>0.000000</td>\n",
       "      <td>0.000000</td>\n",
       "      <td>0.000000</td>\n",
       "      <td>0.000000</td>\n",
       "    </tr>\n",
       "    <tr>\n",
       "      <th>75%</th>\n",
       "      <td>9.439172e+13</td>\n",
       "      <td>5.725524e+06</td>\n",
       "      <td>55.000000</td>\n",
       "      <td>0.000000</td>\n",
       "      <td>0.000000</td>\n",
       "      <td>0.000000</td>\n",
       "      <td>0.000000</td>\n",
       "      <td>0.000000</td>\n",
       "      <td>1.000000</td>\n",
       "    </tr>\n",
       "    <tr>\n",
       "      <th>max</th>\n",
       "      <td>9.999816e+14</td>\n",
       "      <td>5.790484e+06</td>\n",
       "      <td>115.000000</td>\n",
       "      <td>1.000000</td>\n",
       "      <td>1.000000</td>\n",
       "      <td>1.000000</td>\n",
       "      <td>1.000000</td>\n",
       "      <td>4.000000</td>\n",
       "      <td>1.000000</td>\n",
       "    </tr>\n",
       "  </tbody>\n",
       "</table>\n",
       "</div>"
      ],
      "text/plain": [
       "          patientid  appointmentid            age    scholarship  \\\n",
       "count  1.105270e+05   1.105270e+05  110527.000000  110527.000000   \n",
       "mean   1.474963e+14   5.675305e+06      37.088874       0.098266   \n",
       "std    2.560949e+14   7.129575e+04      23.110205       0.297675   \n",
       "min    3.921784e+04   5.030230e+06      -1.000000       0.000000   \n",
       "25%    4.172614e+12   5.640286e+06      18.000000       0.000000   \n",
       "50%    3.173184e+13   5.680573e+06      37.000000       0.000000   \n",
       "75%    9.439172e+13   5.725524e+06      55.000000       0.000000   \n",
       "max    9.999816e+14   5.790484e+06     115.000000       1.000000   \n",
       "\n",
       "        hipertension       diabetes     alcoholism        handcap  \\\n",
       "count  110527.000000  110527.000000  110527.000000  110527.000000   \n",
       "mean        0.197246       0.071865       0.030400       0.022248   \n",
       "std         0.397921       0.258265       0.171686       0.161543   \n",
       "min         0.000000       0.000000       0.000000       0.000000   \n",
       "25%         0.000000       0.000000       0.000000       0.000000   \n",
       "50%         0.000000       0.000000       0.000000       0.000000   \n",
       "75%         0.000000       0.000000       0.000000       0.000000   \n",
       "max         1.000000       1.000000       1.000000       4.000000   \n",
       "\n",
       "        sms_received  \n",
       "count  110527.000000  \n",
       "mean        0.321026  \n",
       "std         0.466873  \n",
       "min         0.000000  \n",
       "25%         0.000000  \n",
       "50%         0.000000  \n",
       "75%         1.000000  \n",
       "max         1.000000  "
      ]
     },
     "execution_count": 11,
     "metadata": {},
     "output_type": "execute_result"
    }
   ],
   "source": [
    "df_app.describe()"
   ]
  },
  {
   "cell_type": "markdown",
   "metadata": {},
   "source": [
    "The \"handcap\" column displays a maximum value of 4, to make the analysis easier let's change the values to \"True\" and \"False\"."
   ]
  },
  {
   "cell_type": "code",
   "execution_count": 12,
   "metadata": {},
   "outputs": [
    {
     "data": {
      "text/plain": [
       "array([0, 1])"
      ]
     },
     "execution_count": 12,
     "metadata": {},
     "output_type": "execute_result"
    }
   ],
   "source": [
    "df_app['handcap'] = df_app['handcap'].replace({2:1 ,3:1,4:1})\n",
    "df_app['handcap'].unique()"
   ]
  },
  {
   "cell_type": "markdown",
   "metadata": {},
   "source": [
    "In this analysis, we'll pay particular attention to the day of the appointment and the date it was scheduled, so let's extract those dates."
   ]
  },
  {
   "cell_type": "code",
   "execution_count": 13,
   "metadata": {},
   "outputs": [
    {
     "data": {
      "text/html": [
       "<div>\n",
       "<style scoped>\n",
       "    .dataframe tbody tr th:only-of-type {\n",
       "        vertical-align: middle;\n",
       "    }\n",
       "\n",
       "    .dataframe tbody tr th {\n",
       "        vertical-align: top;\n",
       "    }\n",
       "\n",
       "    .dataframe thead th {\n",
       "        text-align: right;\n",
       "    }\n",
       "</style>\n",
       "<table border=\"1\" class=\"dataframe\">\n",
       "  <thead>\n",
       "    <tr style=\"text-align: right;\">\n",
       "      <th></th>\n",
       "      <th>appointmentid</th>\n",
       "      <th>scheduledday</th>\n",
       "      <th>appointmentday</th>\n",
       "    </tr>\n",
       "  </thead>\n",
       "  <tbody>\n",
       "    <tr>\n",
       "      <th>0</th>\n",
       "      <td>5642903</td>\n",
       "      <td>2016-04-29T18:38:08Z</td>\n",
       "      <td>2016-04-29T00:00:00Z</td>\n",
       "    </tr>\n",
       "    <tr>\n",
       "      <th>1</th>\n",
       "      <td>5642503</td>\n",
       "      <td>2016-04-29T16:08:27Z</td>\n",
       "      <td>2016-04-29T00:00:00Z</td>\n",
       "    </tr>\n",
       "    <tr>\n",
       "      <th>2</th>\n",
       "      <td>5642549</td>\n",
       "      <td>2016-04-29T16:19:04Z</td>\n",
       "      <td>2016-04-29T00:00:00Z</td>\n",
       "    </tr>\n",
       "    <tr>\n",
       "      <th>3</th>\n",
       "      <td>5642828</td>\n",
       "      <td>2016-04-29T17:29:31Z</td>\n",
       "      <td>2016-04-29T00:00:00Z</td>\n",
       "    </tr>\n",
       "    <tr>\n",
       "      <th>4</th>\n",
       "      <td>5642494</td>\n",
       "      <td>2016-04-29T16:07:23Z</td>\n",
       "      <td>2016-04-29T00:00:00Z</td>\n",
       "    </tr>\n",
       "  </tbody>\n",
       "</table>\n",
       "</div>"
      ],
      "text/plain": [
       "   appointmentid          scheduledday        appointmentday\n",
       "0        5642903  2016-04-29T18:38:08Z  2016-04-29T00:00:00Z\n",
       "1        5642503  2016-04-29T16:08:27Z  2016-04-29T00:00:00Z\n",
       "2        5642549  2016-04-29T16:19:04Z  2016-04-29T00:00:00Z\n",
       "3        5642828  2016-04-29T17:29:31Z  2016-04-29T00:00:00Z\n",
       "4        5642494  2016-04-29T16:07:23Z  2016-04-29T00:00:00Z"
      ]
     },
     "execution_count": 13,
     "metadata": {},
     "output_type": "execute_result"
    }
   ],
   "source": [
    "# Let's see the colomns\n",
    "df_app[['appointmentid','scheduledday','appointmentday']].head()"
   ]
  },
  {
   "cell_type": "markdown",
   "metadata": {},
   "source": [
    "Both of the dates have an hour time associated to them, but our interest is in the date of scheduling and the appointment, so lets create these colomns."
   ]
  },
  {
   "cell_type": "code",
   "execution_count": 14,
   "metadata": {},
   "outputs": [
    {
     "data": {
      "text/html": [
       "<div>\n",
       "<style scoped>\n",
       "    .dataframe tbody tr th:only-of-type {\n",
       "        vertical-align: middle;\n",
       "    }\n",
       "\n",
       "    .dataframe tbody tr th {\n",
       "        vertical-align: top;\n",
       "    }\n",
       "\n",
       "    .dataframe thead th {\n",
       "        text-align: right;\n",
       "    }\n",
       "</style>\n",
       "<table border=\"1\" class=\"dataframe\">\n",
       "  <thead>\n",
       "    <tr style=\"text-align: right;\">\n",
       "      <th></th>\n",
       "      <th>appointmentid</th>\n",
       "      <th>date_scheduled</th>\n",
       "    </tr>\n",
       "  </thead>\n",
       "  <tbody>\n",
       "    <tr>\n",
       "      <th>0</th>\n",
       "      <td>5642903</td>\n",
       "      <td>2016-04-29</td>\n",
       "    </tr>\n",
       "    <tr>\n",
       "      <th>1</th>\n",
       "      <td>5642503</td>\n",
       "      <td>2016-04-29</td>\n",
       "    </tr>\n",
       "    <tr>\n",
       "      <th>2</th>\n",
       "      <td>5642549</td>\n",
       "      <td>2016-04-29</td>\n",
       "    </tr>\n",
       "    <tr>\n",
       "      <th>3</th>\n",
       "      <td>5642828</td>\n",
       "      <td>2016-04-29</td>\n",
       "    </tr>\n",
       "    <tr>\n",
       "      <th>4</th>\n",
       "      <td>5642494</td>\n",
       "      <td>2016-04-29</td>\n",
       "    </tr>\n",
       "  </tbody>\n",
       "</table>\n",
       "</div>"
      ],
      "text/plain": [
       "   appointmentid date_scheduled\n",
       "0        5642903     2016-04-29\n",
       "1        5642503     2016-04-29\n",
       "2        5642549     2016-04-29\n",
       "3        5642828     2016-04-29\n",
       "4        5642494     2016-04-29"
      ]
     },
     "execution_count": 14,
     "metadata": {},
     "output_type": "execute_result"
    }
   ],
   "source": [
    "# The colomn of the date of the appointment that patients called or registered for\n",
    "df_app[['date_scheduled', 'hour']] = df_app['scheduledday'].str.split('T', expand=True)\n",
    "df_app[['appointmentid', 'date_scheduled']].head()"
   ]
  },
  {
   "cell_type": "code",
   "execution_count": 15,
   "metadata": {},
   "outputs": [
    {
     "data": {
      "text/html": [
       "<div>\n",
       "<style scoped>\n",
       "    .dataframe tbody tr th:only-of-type {\n",
       "        vertical-align: middle;\n",
       "    }\n",
       "\n",
       "    .dataframe tbody tr th {\n",
       "        vertical-align: top;\n",
       "    }\n",
       "\n",
       "    .dataframe thead th {\n",
       "        text-align: right;\n",
       "    }\n",
       "</style>\n",
       "<table border=\"1\" class=\"dataframe\">\n",
       "  <thead>\n",
       "    <tr style=\"text-align: right;\">\n",
       "      <th></th>\n",
       "      <th>appointmentid</th>\n",
       "      <th>date_scheduled</th>\n",
       "      <th>date_appointment</th>\n",
       "    </tr>\n",
       "  </thead>\n",
       "  <tbody>\n",
       "    <tr>\n",
       "      <th>0</th>\n",
       "      <td>5642903</td>\n",
       "      <td>2016-04-29</td>\n",
       "      <td>2016-04-29</td>\n",
       "    </tr>\n",
       "    <tr>\n",
       "      <th>1</th>\n",
       "      <td>5642503</td>\n",
       "      <td>2016-04-29</td>\n",
       "      <td>2016-04-29</td>\n",
       "    </tr>\n",
       "    <tr>\n",
       "      <th>2</th>\n",
       "      <td>5642549</td>\n",
       "      <td>2016-04-29</td>\n",
       "      <td>2016-04-29</td>\n",
       "    </tr>\n",
       "    <tr>\n",
       "      <th>3</th>\n",
       "      <td>5642828</td>\n",
       "      <td>2016-04-29</td>\n",
       "      <td>2016-04-29</td>\n",
       "    </tr>\n",
       "    <tr>\n",
       "      <th>4</th>\n",
       "      <td>5642494</td>\n",
       "      <td>2016-04-29</td>\n",
       "      <td>2016-04-29</td>\n",
       "    </tr>\n",
       "  </tbody>\n",
       "</table>\n",
       "</div>"
      ],
      "text/plain": [
       "   appointmentid date_scheduled date_appointment\n",
       "0        5642903     2016-04-29       2016-04-29\n",
       "1        5642503     2016-04-29       2016-04-29\n",
       "2        5642549     2016-04-29       2016-04-29\n",
       "3        5642828     2016-04-29       2016-04-29\n",
       "4        5642494     2016-04-29       2016-04-29"
      ]
     },
     "execution_count": 15,
     "metadata": {},
     "output_type": "execute_result"
    }
   ],
   "source": [
    "# The date of The day of the actuall appointment\n",
    "df_app[['date_appointment','Hour']] = df_app['appointmentday'].str.split('T', expand=True)\n",
    "df_app[['appointmentid', 'date_scheduled','date_appointment']].head()"
   ]
  },
  {
   "cell_type": "code",
   "execution_count": 16,
   "metadata": {},
   "outputs": [
    {
     "name": "stdout",
     "output_type": "stream",
     "text": [
      "<class 'pandas.core.frame.DataFrame'>\n",
      "RangeIndex: 110527 entries, 0 to 110526\n",
      "Data columns (total 2 columns):\n",
      "date_scheduled      110527 non-null object\n",
      "date_appointment    110527 non-null object\n",
      "dtypes: object(2)\n",
      "memory usage: 1.7+ MB\n"
     ]
    }
   ],
   "source": [
    "# Let's search for the nature of the \"date_scheduled\" and \"date_appointment\" colomns\n",
    "df_app[['date_scheduled','date_appointment']].info()"
   ]
  },
  {
   "cell_type": "markdown",
   "metadata": {},
   "source": [
    "As we can see, they are both of the string type when they should be of the datetime type."
   ]
  },
  {
   "cell_type": "code",
   "execution_count": 17,
   "metadata": {},
   "outputs": [
    {
     "name": "stdout",
     "output_type": "stream",
     "text": [
      "<class 'pandas.core.frame.DataFrame'>\n",
      "RangeIndex: 110527 entries, 0 to 110526\n",
      "Data columns (total 2 columns):\n",
      "date_scheduled      110527 non-null datetime64[ns]\n",
      "date_appointment    110527 non-null datetime64[ns]\n",
      "dtypes: datetime64[ns](2)\n",
      "memory usage: 1.7 MB\n"
     ]
    }
   ],
   "source": [
    "# Let's change the type of the colomns to datetime\n",
    "df_app['date_scheduled'] = pd.to_datetime(df_app['date_scheduled'], format='%Y-%m-%d')\n",
    "df_app['date_appointment'] = pd.to_datetime(df_app['date_appointment'], format='%Y-%m-%d')\n",
    "df_app[['date_scheduled','date_appointment']].info()"
   ]
  },
  {
   "cell_type": "markdown",
   "metadata": {},
   "source": [
    "<a id='eda'></a>\n",
    "## Exploratory Data Analysis\n",
    "\n",
    "\n",
    "\n",
    "### Question 1 :\n",
    "    What is the percentage of patients who fail to show up for their appointments?"
   ]
  },
  {
   "cell_type": "markdown",
   "metadata": {},
   "source": [
    "Let's start by searching for distinct values in the 'no show' column."
   ]
  },
  {
   "cell_type": "code",
   "execution_count": 18,
   "metadata": {},
   "outputs": [
    {
     "data": {
      "text/plain": [
       "array(['No', 'Yes'], dtype=object)"
      ]
     },
     "execution_count": 18,
     "metadata": {},
     "output_type": "execute_result"
    }
   ],
   "source": [
    "df_app['no_show'].unique()"
   ]
  },
  {
   "cell_type": "markdown",
   "metadata": {},
   "source": [
    "Now, Let's find the percentage of patients that missed their scheduled appointments."
   ]
  },
  {
   "cell_type": "code",
   "execution_count": 19,
   "metadata": {},
   "outputs": [
    {
     "name": "stdout",
     "output_type": "stream",
     "text": [
      "The number of patients that did not attend their appointment is 22319.\n"
     ]
    }
   ],
   "source": [
    "patients_noshow_count = df_app.query('no_show==\"Yes\"')['appointmentid'].count()\n",
    "print(f\"The number of patients that did not attend their appointment is {patients_noshow_count}.\")"
   ]
  },
  {
   "cell_type": "code",
   "execution_count": 20,
   "metadata": {},
   "outputs": [
    {
     "name": "stdout",
     "output_type": "stream",
     "text": [
      "the percentage is 20.19%.\n"
     ]
    }
   ],
   "source": [
    "# Number of patients \n",
    "N_patients = df_app['no_show'].count()  \n",
    "# Percentage of patients who did not attended their appointments as scheduled\n",
    "patients_show_percentage = percentage(patients_noshow_count,N_patients)\n",
    "print_percentage(patients_show_percentage)"
   ]
  },
  {
   "cell_type": "markdown",
   "metadata": {},
   "source": [
    "Let's find the percentage of patients that didn't missed their scheduled appointments."
   ]
  },
  {
   "cell_type": "code",
   "execution_count": 21,
   "metadata": {},
   "outputs": [
    {
     "name": "stdout",
     "output_type": "stream",
     "text": [
      "The number of patients that attend their appointment is 22319.\n"
     ]
    }
   ],
   "source": [
    "patients_show_count = df_app.query('no_show==\"No\"')['appointmentid'].count()\n",
    "print(f\"The number of patients that attend their appointment is {patients_noshow_count}.\")"
   ]
  },
  {
   "cell_type": "code",
   "execution_count": 22,
   "metadata": {},
   "outputs": [
    {
     "name": "stdout",
     "output_type": "stream",
     "text": [
      "the percentage is 79.81%.\n"
     ]
    }
   ],
   "source": [
    "# Percentage of patients who attended their appointments as scheduled\n",
    "patients_noshow_percentage = percentage(patients_show_count,N_patients)\n",
    "print_percentage(patients_noshow_percentage)"
   ]
  },
  {
   "cell_type": "markdown",
   "metadata": {},
   "source": [
    "Let's use a pie chart to clearly show the percentages  :"
   ]
  },
  {
   "cell_type": "code",
   "execution_count": 23,
   "metadata": {
    "scrolled": false
   },
   "outputs": [
    {
     "data": {
      "image/png": "[encoded data removed]",
      "text/plain": [
       "<matplotlib.figure.Figure at 0x7f5922d956d8>"
      ]
     },
     "metadata": {},
     "output_type": "display_data"
    }
   ],
   "source": [
    "show_percentage = np.array([patients_show_percentage,patients_noshow_percentage])\n",
    "Labels = [\"Show\", \"No-Show\"]\n",
    "Explode = [0.2, 0]\n",
    "Colors = [\"#3D348B\" , \"#7678ED\"]\n",
    "plt.pie(show_percentage, labels = Labels , startangle = -10, explode=Explode , shadow = True , colors=Colors )\n",
    "plt.legend()\n",
    "plt.title('Appointment attendance percentage')\n",
    "plt.show();"
   ]
  },
  {
   "cell_type": "markdown",
   "metadata": {},
   "source": [
    "### Answer 1 :\n",
    "    The percentage of patients that missed their scheduled appointments is 20.2% and the percentage of patients that didn't missed their scheduled appointments is 79.8%."
   ]
  },
  {
   "cell_type": "markdown",
   "metadata": {},
   "source": [
    "### Question 2 :\n",
    "    Does a patient's age have any bearing on whether they keep an appointment?"
   ]
  },
  {
   "cell_type": "markdown",
   "metadata": {},
   "source": [
    "First , let's lock for the unique ages in the dataset :"
   ]
  },
  {
   "cell_type": "code",
   "execution_count": 24,
   "metadata": {},
   "outputs": [
    {
     "data": {
      "text/plain": [
       "array([ 62,  56,   8,  76,  23,  39,  21,  19,  30,  29,  22,  28,  54,\n",
       "        15,  50,  40,  46,   4,  13,  65,  45,  51,  32,  12,  61,  38,\n",
       "        79,  18,  63,  64,  85,  59,  55,  71,  49,  78,  31,  58,  27,\n",
       "         6,   2,  11,   7,   0,   3,   1,  69,  68,  60,  67,  36,  10,\n",
       "        35,  20,  26,  34,  33,  16,  42,   5,  47,  17,  41,  44,  37,\n",
       "        24,  66,  77,  81,  70,  53,  75,  73,  52,  74,  43,  89,  57,\n",
       "        14,   9,  48,  83,  72,  25,  80,  87,  88,  84,  82,  90,  94,\n",
       "        86,  91,  98,  92,  96,  93,  95,  97, 102, 115, 100,  99,  -1])"
      ]
     },
     "execution_count": 24,
     "metadata": {},
     "output_type": "execute_result"
    }
   ],
   "source": [
    "df_app['age'].unique()"
   ]
  },
  {
   "cell_type": "markdown",
   "metadata": {},
   "source": [
    "The array above displays a range of ages, therefore we'll categorize them into \"Children,\" \"Youth,\" \"Adults,\" and \"Seniors\":"
   ]
  },
  {
   "cell_type": "markdown",
   "metadata": {},
   "source": [
    "First , the children categorie ages between 0 and 14 who did not the appointment:"
   ]
  },
  {
   "cell_type": "code",
   "execution_count": 25,
   "metadata": {},
   "outputs": [
    {
     "name": "stdout",
     "output_type": "stream",
     "text": [
      "The number of children who attended their appointment 4926.\n"
     ]
    }
   ],
   "source": [
    "patients_ch = df_app.query('age>=0 & age<=14 & no_show==\"Yes\"' )['appointmentid'].count()\n",
    "print(f\"The number of children who attended their appointment {patients_ch}.\")"
   ]
  },
  {
   "cell_type": "markdown",
   "metadata": {},
   "source": [
    "Then , the Youth categorie ages between 14 and 24 who did not the appointment:"
   ]
  },
  {
   "cell_type": "code",
   "execution_count": 26,
   "metadata": {},
   "outputs": [
    {
     "name": "stdout",
     "output_type": "stream",
     "text": [
      "The number of youth patients who did not attended their appointment 3540.\n"
     ]
    }
   ],
   "source": [
    "patients_y = df_app.query('age>14 & age<=24 & no_show==\"Yes\"')['appointmentid'].count()\n",
    "print(f\"The number of youth patients who did not attended their appointment {patients_y}.\")"
   ]
  },
  {
   "cell_type": "markdown",
   "metadata": {},
   "source": [
    "Next , the Adults categorie ages between 24 and 64 who did not attended the appointment:"
   ]
  },
  {
   "cell_type": "code",
   "execution_count": 27,
   "metadata": {},
   "outputs": [
    {
     "name": "stdout",
     "output_type": "stream",
     "text": [
      "The number of adults who did not attended their appointment 11620.\n"
     ]
    }
   ],
   "source": [
    "patients_ad = df_app.query('age>24 & age<=64 & no_show==\"Yes\"')['appointmentid'].count()\n",
    "print(f\"The number of adults who did not attended their appointment {patients_ad}.\")"
   ]
  },
  {
   "cell_type": "markdown",
   "metadata": {},
   "source": [
    "Finally , the Seniors categorie ages above 64 who attended the appointment:"
   ]
  },
  {
   "cell_type": "code",
   "execution_count": 28,
   "metadata": {},
   "outputs": [
    {
     "name": "stdout",
     "output_type": "stream",
     "text": [
      "The number of seniors who did not attended their appointment 2233.\n"
     ]
    }
   ],
   "source": [
    "patients_sn = df_app.query('age>64 & no_show==\"Yes\"')['appointmentid'].count()\n",
    "print(f\"The number of seniors who did not attended their appointment {patients_sn}.\")"
   ]
  },
  {
   "cell_type": "markdown",
   "metadata": {},
   "source": [
    "Let's use a pie chart to display the four categories of patients :"
   ]
  },
  {
   "cell_type": "code",
   "execution_count": 29,
   "metadata": {},
   "outputs": [
    {
     "data": {
      "image/png": "[encoded data removed]",
      "text/plain": [
       "<matplotlib.figure.Figure at 0x7f592305d0f0>"
      ]
     },
     "metadata": {},
     "output_type": "display_data"
    }
   ],
   "source": [
    "show_percentage = np.array([ patients_ch , patients_y , patients_ad , patients_sn ])\n",
    "Labels = [\"Children\", \"Youth\" , \"Adults\" , \"Seniors\"]\n",
    "Colors = [\"#CDF7F6\" , \"#8FB8DE\" , \"#9A94BC\" ,\"#9B5094\"]\n",
    "plt.pie(show_percentage, labels = Labels , shadow = True , colors=Colors)\n",
    "plt.title('Patients age-related absences')\n",
    "plt.show();"
   ]
  },
  {
   "cell_type": "markdown",
   "metadata": {},
   "source": [
    "### Answer 2 :\n",
    "    Adults are the more likely to fail to appear, followed by children, youth, and seniors."
   ]
  },
  {
   "cell_type": "markdown",
   "metadata": {},
   "source": [
    "### Question 3 :\n",
    "    Do patients with a scholorship show up more for their appointments?"
   ]
  },
  {
   "cell_type": "markdown",
   "metadata": {},
   "source": [
    "First , Let's study patients with scholarship :  "
   ]
  },
  {
   "cell_type": "code",
   "execution_count": 30,
   "metadata": {},
   "outputs": [
    {
     "name": "stdout",
     "output_type": "stream",
     "text": [
      "The number of patients with a scholarship is 10861.\n"
     ]
    }
   ],
   "source": [
    "# patients with a scholarship\n",
    "patients_w_s = df_app.query('scholarship==True')['appointmentid'].count()\n",
    "print(f\"The number of patients with a scholarship is {patients_w_s}.\")"
   ]
  },
  {
   "cell_type": "code",
   "execution_count": 31,
   "metadata": {},
   "outputs": [
    {
     "name": "stdout",
     "output_type": "stream",
     "text": [
      "The number of patients with a scholarship who attend their visits is 10861.\n"
     ]
    }
   ],
   "source": [
    "# number of patients with a scholarship who attend their visits\n",
    "patients_s_show = df_app.query('scholarship==True & no_show==\"No\"')['appointmentid'].count()\n",
    "print(f\"The number of patients with a scholarship who attend their visits is {patients_w_s}.\")"
   ]
  },
  {
   "cell_type": "code",
   "execution_count": 32,
   "metadata": {},
   "outputs": [
    {
     "name": "stdout",
     "output_type": "stream",
     "text": [
      "the percentage is 76.26%.\n"
     ]
    }
   ],
   "source": [
    "# percentage of patients with scholarship who attend their visits\n",
    "percentage_p_s_show = percentage(patients_s_show,patients_w_s)\n",
    "print_percentage(percentage_p_s_show)"
   ]
  },
  {
   "cell_type": "code",
   "execution_count": 33,
   "metadata": {},
   "outputs": [
    {
     "name": "stdout",
     "output_type": "stream",
     "text": [
      "The number of patients with a scholarship who did not attend their visits is 2578.\n"
     ]
    }
   ],
   "source": [
    "# number of patients with a scholarship who did not attend their visits\n",
    "patients_s_noshow = df_app.query('scholarship==True & no_show==\"Yes\"')['appointmentid'].count()\n",
    "print(f\"The number of patients with a scholarship who did not attend their visits is {patients_s_noshow}.\")"
   ]
  },
  {
   "cell_type": "code",
   "execution_count": 34,
   "metadata": {},
   "outputs": [
    {
     "name": "stdout",
     "output_type": "stream",
     "text": [
      "the percentage is 23.74%.\n"
     ]
    }
   ],
   "source": [
    "# percentage of patients with scholarship who did not attend their visits\n",
    "pr_s_noshow = percentage(patients_s_noshow,patients_w_s)\n",
    "print_percentage(pr_s_noshow) "
   ]
  },
  {
   "cell_type": "markdown",
   "metadata": {},
   "source": [
    "Now, let us look at patients who do not have a scholarship: "
   ]
  },
  {
   "cell_type": "code",
   "execution_count": 35,
   "metadata": {
    "scrolled": true
   },
   "outputs": [
    {
     "name": "stdout",
     "output_type": "stream",
     "text": [
      "The number of patients who do not have a scholarship is 99666.\n"
     ]
    }
   ],
   "source": [
    "# patients who do not have a scholarship\n",
    "patients_no_s = df_app.query('scholarship==False')['appointmentid'].count()\n",
    "print(f\"The number of patients who do not have a scholarship is {patients_no_s}.\")"
   ]
  },
  {
   "cell_type": "code",
   "execution_count": 36,
   "metadata": {},
   "outputs": [
    {
     "name": "stdout",
     "output_type": "stream",
     "text": [
      "The number of patients with a scholarship who attend their visits is 10861.\n"
     ]
    }
   ],
   "source": [
    "# number of patients who do not have a scholarship and attend their visits\n",
    "patients_n_s_show = df_app.query('scholarship==False & no_show==\"No\"')['appointmentid'].count()\n",
    "print(f\"The number of patients with a scholarship who attend their visits is {patients_w_s}.\")"
   ]
  },
  {
   "cell_type": "code",
   "execution_count": 37,
   "metadata": {},
   "outputs": [
    {
     "name": "stdout",
     "output_type": "stream",
     "text": [
      "the percentage is 80.19%.\n"
     ]
    }
   ],
   "source": [
    "# percentage of patients who do not have a scholarship and attend their visits\n",
    "pr_patients_n_s_show = percentage(patients_n_s_show,patients_no_s)\n",
    "print_percentage(pr_patients_n_s_show) "
   ]
  },
  {
   "cell_type": "code",
   "execution_count": 38,
   "metadata": {},
   "outputs": [
    {
     "name": "stdout",
     "output_type": "stream",
     "text": [
      "The number of patients with a scholarship and do not attend their visits is 19741.\n"
     ]
    }
   ],
   "source": [
    "# number of patients who do not have a scholarship and do not attend their visits\n",
    "patients_n_s_noshow = df_app.query('scholarship==False & no_show==\"Yes\"')['appointmentid'].count()\n",
    "print(f\"The number of patients with a scholarship and do not attend their visits is {patients_n_s_noshow}.\")"
   ]
  },
  {
   "cell_type": "code",
   "execution_count": 39,
   "metadata": {},
   "outputs": [
    {
     "name": "stdout",
     "output_type": "stream",
     "text": [
      "the percentage is 19.81%.\n"
     ]
    }
   ],
   "source": [
    "# percentage of patients who do not have a scholarship and do not attend their visits\n",
    "pr_patients_n_s_noshow = percentage(patients_n_s_noshow,patients_no_s)\n",
    "print_percentage(pr_patients_n_s_noshow) "
   ]
  },
  {
   "cell_type": "markdown",
   "metadata": {},
   "source": [
    "Let's compare the results using a bar chart :"
   ]
  },
  {
   "cell_type": "code",
   "execution_count": 40,
   "metadata": {},
   "outputs": [
    {
     "data": {
      "image/png": "[encoded data removed]",
      "text/plain": [
       "<matplotlib.figure.Figure at 0x7f59231c8780>"
      ]
     },
     "metadata": {
      "needs_background": "light"
     },
     "output_type": "display_data"
    }
   ],
   "source": [
    "patients_show = [percentage_p_s_show, pr_patients_n_s_show]\n",
    "patients_no_show = [pr_s_noshow, pr_patients_n_s_noshow]\n",
    "index = ['With scholarship', 'Without scholarship' ]\n",
    "df = pd.DataFrame({'Patients show up ': patients_show,'Patients did not show up': patients_no_show}, index=index)\n",
    "ax = df.plot.bar(rot=0,figsize=(12,6))"
   ]
  },
  {
   "cell_type": "markdown",
   "metadata": {},
   "source": [
    "### Answer 3 :\n",
    "    The analysis above leads us to the conclusion that patients with scholarshps are more likely to miss their appointments ."
   ]
  },
  {
   "cell_type": "markdown",
   "metadata": {},
   "source": [
    "### Question 4 :\n",
    "    Do patients with disabilities attend their appointments more  often?"
   ]
  },
  {
   "cell_type": "markdown",
   "metadata": {},
   "source": [
    "First , Let's study patients with a handicap : "
   ]
  },
  {
   "cell_type": "code",
   "execution_count": 41,
   "metadata": {},
   "outputs": [
    {
     "name": "stdout",
     "output_type": "stream",
     "text": [
      "The number of patients with a handicap  is 2241.\n"
     ]
    }
   ],
   "source": [
    "# patients with a handicap \n",
    "patients_w_hc = df_app.query('handcap==True')['appointmentid'].count()\n",
    "print(f\"The number of patients with a handicap  is {patients_w_hc}.\")"
   ]
  },
  {
   "cell_type": "code",
   "execution_count": 42,
   "metadata": {},
   "outputs": [
    {
     "name": "stdout",
     "output_type": "stream",
     "text": [
      "The number of patients who have a handicap and attend their visits is 1834.\n"
     ]
    }
   ],
   "source": [
    "# number of patients who have a handicap and attend their visits\n",
    "patients_hc_show = df_app.query('handcap==True & no_show==\"No\"')['appointmentid'].count()\n",
    "print(f\"The number of patients who have a handicap and attend their visits is {patients_hc_show}.\")"
   ]
  },
  {
   "cell_type": "code",
   "execution_count": 43,
   "metadata": {},
   "outputs": [
    {
     "name": "stdout",
     "output_type": "stream",
     "text": [
      "the percentage is 81.84%.\n"
     ]
    }
   ],
   "source": [
    "# percentage of patients with a handicap who did attend their visits\n",
    "pr_hc_show = percentage(patients_hc_show,patients_w_hc)\n",
    "print_percentage(pr_hc_show)"
   ]
  },
  {
   "cell_type": "code",
   "execution_count": 44,
   "metadata": {},
   "outputs": [
    {
     "name": "stdout",
     "output_type": "stream",
     "text": [
      "The number of patients who have a handicap and did not attend their visits is 407.\n"
     ]
    }
   ],
   "source": [
    "# number of patients with a handicap who did not attend their visits\n",
    "patients_hc_noshow = df_app.query('handcap==True & no_show==\"Yes\"')['appointmentid'].count()\n",
    "print(f\"The number of patients who have a handicap and did not attend their visits is {patients_hc_noshow}.\")"
   ]
  },
  {
   "cell_type": "code",
   "execution_count": 45,
   "metadata": {},
   "outputs": [
    {
     "name": "stdout",
     "output_type": "stream",
     "text": [
      "the percentage is 18.16%.\n"
     ]
    }
   ],
   "source": [
    "# percentage of patients with a handicap who did not attend their visits\n",
    "pr_hc_noshow = percentage(patients_hc_noshow,patients_w_hc)\n",
    "print_percentage(pr_hc_noshow)"
   ]
  },
  {
   "cell_type": "markdown",
   "metadata": {},
   "source": [
    "Now , Let's study patients who are not handicapped:"
   ]
  },
  {
   "cell_type": "code",
   "execution_count": 46,
   "metadata": {},
   "outputs": [
    {
     "name": "stdout",
     "output_type": "stream",
     "text": [
      "The number of patients without a handicap  is 108286.\n"
     ]
    }
   ],
   "source": [
    "# patients who are not handicapped \n",
    "patients_wt_hc = df_app.query('handcap==False')['appointmentid'].count()\n",
    "print(f\"The number of patients without a handicap  is {patients_wt_hc}.\")"
   ]
  },
  {
   "cell_type": "code",
   "execution_count": 47,
   "metadata": {},
   "outputs": [
    {
     "name": "stdout",
     "output_type": "stream",
     "text": [
      "The number of patients who do not have a handicap and attend their visits is 86374.\n"
     ]
    }
   ],
   "source": [
    "# number of patients who do not have a handicap and attend their visits\n",
    "patients_n_hc_show = df_app.query('handcap==False & no_show==\"No\"')['appointmentid'].count()\n",
    "print(f\"The number of patients who do not have a handicap and attend their visits is {patients_n_hc_show}.\")"
   ]
  },
  {
   "cell_type": "code",
   "execution_count": 48,
   "metadata": {
    "scrolled": true
   },
   "outputs": [
    {
     "name": "stdout",
     "output_type": "stream",
     "text": [
      "the percentage is 73.81%.\n"
     ]
    }
   ],
   "source": [
    "# percentage of patients who are not handicapped and did attend their visits\n",
    "pr_patients_n_hc_show = percentage(patients_n_s_show,patients_wt_hc)\n",
    "print_percentage(pr_patients_n_hc_show)"
   ]
  },
  {
   "cell_type": "code",
   "execution_count": 49,
   "metadata": {},
   "outputs": [
    {
     "name": "stdout",
     "output_type": "stream",
     "text": [
      "The number of patients who do not have a handicap and did not attend their visits is 21912.\n"
     ]
    }
   ],
   "source": [
    "# number of patients who do not have a handicap and did not attend their visits\n",
    "patients_n_hc_noshow = df_app.query('handcap==False & no_show==\"Yes\"')['appointmentid'].count()\n",
    "print(f\"The number of patients who do not have a handicap and did not attend their visits is {patients_n_hc_noshow}.\")"
   ]
  },
  {
   "cell_type": "code",
   "execution_count": 50,
   "metadata": {},
   "outputs": [
    {
     "name": "stdout",
     "output_type": "stream",
     "text": [
      "the percentage is 20.24%.\n"
     ]
    }
   ],
   "source": [
    "# percentage of patients who are not handicapped and did not attend their visits\n",
    "pr_patients_n_hc_noshow = percentage(patients_n_hc_noshow,patients_wt_hc)\n",
    "print_percentage(pr_patients_n_hc_noshow)"
   ]
  },
  {
   "cell_type": "markdown",
   "metadata": {},
   "source": [
    "Let's compare the results using a bar chart :"
   ]
  },
  {
   "cell_type": "code",
   "execution_count": 51,
   "metadata": {},
   "outputs": [
    {
     "data": {
      "image/png": "[encoded data removed]",
      "text/plain": [
       "<matplotlib.figure.Figure at 0x7f592483e5c0>"
      ]
     },
     "metadata": {
      "needs_background": "light"
     },
     "output_type": "display_data"
    }
   ],
   "source": [
    "patients_show = [pr_hc_show, pr_patients_n_hc_show]\n",
    "patients_no_show = [pr_hc_noshow, pr_patients_n_hc_noshow]\n",
    "index = ['Handicap', 'Not a handicap' ]\n",
    "df = pd.DataFrame({'Patients show up ': patients_show,'Patients did not show up': patients_no_show}, index=index)\n",
    "ax = df.plot.bar(rot=0,figsize=(12,6))"
   ]
  },
  {
   "cell_type": "markdown",
   "metadata": {},
   "source": [
    "### Answer 4 :\n",
    "    According to the analysis above , patients without a handicap are more likely to miss their appointments ."
   ]
  },
  {
   "cell_type": "markdown",
   "metadata": {},
   "source": [
    "### Question 5 :\n",
    "    Which gender has the highest likelihood of missing an appointment?"
   ]
  },
  {
   "cell_type": "markdown",
   "metadata": {},
   "source": [
    "Let us calculate the percentage of female patients who missed their appointments :"
   ]
  },
  {
   "cell_type": "code",
   "execution_count": 52,
   "metadata": {},
   "outputs": [
    {
     "name": "stdout",
     "output_type": "stream",
     "text": [
      "The number of female patients is 71840.\n"
     ]
    }
   ],
   "source": [
    "# Number of female patients \n",
    "patients_f = df_app.query('gender==\"F\"')['appointmentid'].count()\n",
    "print(f\"The number of female patients is {patients_f}.\")"
   ]
  },
  {
   "cell_type": "code",
   "execution_count": 53,
   "metadata": {
    "scrolled": true
   },
   "outputs": [
    {
     "name": "stdout",
     "output_type": "stream",
     "text": [
      "The number of female patients who missed their appointments is 14594.\n"
     ]
    }
   ],
   "source": [
    "# Number of female patients who missed their appointments \n",
    "patients_f_noshow = df_app.query('gender==\"F\" & no_show==\"Yes\"')['appointmentid'].count()\n",
    "print(f\"The number of female patients who missed their appointments is {patients_f_noshow}.\")"
   ]
  },
  {
   "cell_type": "code",
   "execution_count": 54,
   "metadata": {},
   "outputs": [
    {
     "name": "stdout",
     "output_type": "stream",
     "text": [
      "the percentage is 20.31%.\n"
     ]
    }
   ],
   "source": [
    "# percentage of female patients who missed their appointments \n",
    "pr_patients_f_noshow = percentage(patients_f_noshow,patients_f)\n",
    "print_percentage(pr_patients_f_noshow)"
   ]
  },
  {
   "cell_type": "markdown",
   "metadata": {},
   "source": [
    "    Let us calculate the percentage of male patients who missed their appointments :"
   ]
  },
  {
   "cell_type": "code",
   "execution_count": 55,
   "metadata": {},
   "outputs": [
    {
     "name": "stdout",
     "output_type": "stream",
     "text": [
      "The number of male patients is 38687.\n"
     ]
    }
   ],
   "source": [
    "# Number of male patients \n",
    "patients_m = df_app.query('gender==\"M\"')['appointmentid'].count()\n",
    "print(f\"The number of male patients is {patients_m}.\")"
   ]
  },
  {
   "cell_type": "code",
   "execution_count": 56,
   "metadata": {},
   "outputs": [
    {
     "name": "stdout",
     "output_type": "stream",
     "text": [
      "The number of male patients who missed their appointments is 7725.\n"
     ]
    }
   ],
   "source": [
    "# Number of male patients who missed their appointments\n",
    "patients_m_noshow = df_app.query('gender==\"M\" & no_show==\"Yes\"')['appointmentid'].count()\n",
    "print(f\"The number of male patients who missed their appointments is {patients_m_noshow}.\")"
   ]
  },
  {
   "cell_type": "code",
   "execution_count": 57,
   "metadata": {},
   "outputs": [
    {
     "name": "stdout",
     "output_type": "stream",
     "text": [
      "the percentage is 19.97%.\n"
     ]
    }
   ],
   "source": [
    "# percentage of female patients who missed their appointments \n",
    "pr_patients_m_noshow = percentage(patients_m_noshow,patients_m)\n",
    "print_percentage(pr_patients_m_noshow)"
   ]
  },
  {
   "cell_type": "markdown",
   "metadata": {},
   "source": [
    "Let's compare the results using a bar chart :"
   ]
  },
  {
   "cell_type": "code",
   "execution_count": 58,
   "metadata": {
    "scrolled": true
   },
   "outputs": [
    {
     "data": {
      "image/png": "[encoded data removed]",
      "text/plain": [
       "<matplotlib.figure.Figure at 0x7f592364c860>"
      ]
     },
     "metadata": {
      "needs_background": "light"
     },
     "output_type": "display_data"
    }
   ],
   "source": [
    "patients_no_show = ['female_noshow','male_noshow']\n",
    "pr_patients_no_show = [pr_patients_f_noshow,pr_patients_m_noshow]\n",
    "Colors = [\"#03B5AA\" , \"#037971\"]\n",
    "plt.figure(figsize=(10,5))\n",
    "plt.bar(patients_no_show,pr_patients_no_show,width=0.5,color=Colors)\n",
    "plt.title('Absences of patients based on gender ')\n",
    "plt.xlabel('Gender')\n",
    "plt.ylabel('Percentage of gender');"
   ]
  },
  {
   "cell_type": "markdown",
   "metadata": {},
   "source": [
    "### Answer 5 :\n",
    "    We conclude from the analysis above that gender is unrelated to a patient's absence."
   ]
  },
  {
   "cell_type": "markdown",
   "metadata": {},
   "source": [
    "### Question 6 :\n",
    "    Do clients who receive SMS reminders show up more for their appointments?"
   ]
  },
  {
   "cell_type": "markdown",
   "metadata": {},
   "source": [
    "To start, Let's calculat the percentage of patients who got SMS reminders but did not attend their appointments :"
   ]
  },
  {
   "cell_type": "code",
   "execution_count": 59,
   "metadata": {},
   "outputs": [
    {
     "name": "stdout",
     "output_type": "stream",
     "text": [
      "The number of patients who got SMS reminders is 35482.\n"
     ]
    }
   ],
   "source": [
    "#   Number of patients who got SMS reminders\n",
    "patient_r_sms = df_app.query('sms_received==True')['appointmentid'].count()\n",
    "print(f\"The number of patients who got SMS reminders is {patient_r_sms}.\")"
   ]
  },
  {
   "cell_type": "code",
   "execution_count": 60,
   "metadata": {},
   "outputs": [
    {
     "name": "stdout",
     "output_type": "stream",
     "text": [
      "The number of patients who got SMS reminders and not attend their appointments is 9784.\n"
     ]
    }
   ],
   "source": [
    "#   patients who got SMS reminders and not attend their appointments \n",
    "patient_r_noshow  = df_app.query('sms_received==True & no_show==\"Yes\"')['appointmentid'].count()\n",
    "print(f\"The number of patients who got SMS reminders and not attend their appointments is {patient_r_noshow}.\")"
   ]
  },
  {
   "cell_type": "code",
   "execution_count": 61,
   "metadata": {},
   "outputs": [
    {
     "name": "stdout",
     "output_type": "stream",
     "text": [
      "the percentage is 27.57%.\n"
     ]
    }
   ],
   "source": [
    "#   percentage of patients who got SMS reminders and not attend their appointments \n",
    "pr_patients_r_noshow = percentage(patient_r_noshow,patient_r_sms)\n",
    "print_percentage(pr_patients_r_noshow)"
   ]
  },
  {
   "cell_type": "markdown",
   "metadata": {},
   "source": [
    "Now, Let's calculat the percentage of patients who did not receive SMS reminders and did not attend their appointments :"
   ]
  },
  {
   "cell_type": "code",
   "execution_count": 62,
   "metadata": {},
   "outputs": [
    {
     "name": "stdout",
     "output_type": "stream",
     "text": [
      "The number of patients who did not receive SMS reminders is 75045.\n"
     ]
    }
   ],
   "source": [
    "#  patients who did not receive SMS reminders\n",
    "patient_no_r = df_app.query('sms_received==False')['appointmentid'].count()\n",
    "print(f\"The number of patients who did not receive SMS reminders is {patient_no_r}.\")"
   ]
  },
  {
   "cell_type": "code",
   "execution_count": 63,
   "metadata": {},
   "outputs": [
    {
     "name": "stdout",
     "output_type": "stream",
     "text": [
      "The number of patients who got SMS reminders and not attend their appointments is 12535.\n"
     ]
    }
   ],
   "source": [
    "#  patients who did not receive SMS reminders and did not attend their appointments\n",
    "patient_no_r_noshow  = df_app.query('sms_received==False & no_show==\"Yes\"')['appointmentid'].count()\n",
    "print(f\"The number of patients who got SMS reminders and not attend their appointments is {patient_no_r_noshow}.\")"
   ]
  },
  {
   "cell_type": "code",
   "execution_count": 64,
   "metadata": {},
   "outputs": [
    {
     "name": "stdout",
     "output_type": "stream",
     "text": [
      "the percentage is 35.33%.\n"
     ]
    }
   ],
   "source": [
    "#   percentage of patients who did not receive SMS reminders and did not attend their appointments\n",
    "pr_patients_no_r_noshow = percentage(patient_no_r_noshow,patient_r_sms)\n",
    "print_percentage(pr_patients_no_r_noshow)"
   ]
  },
  {
   "cell_type": "markdown",
   "metadata": {},
   "source": [
    "Let's compare the results using a bar chart :"
   ]
  },
  {
   "cell_type": "code",
   "execution_count": 65,
   "metadata": {
    "scrolled": true
   },
   "outputs": [
    {
     "data": {
      "image/png": "[encoded data removed]",
      "text/plain": [
       "<matplotlib.figure.Figure at 0x7f59237f64a8>"
      ]
     },
     "metadata": {
      "needs_background": "light"
     },
     "output_type": "display_data"
    }
   ],
   "source": [
    "conditions = np.array(['SMS received','SMS not received'])\n",
    "patients_no_show = [pr_patients_r_noshow,pr_patients_no_r_noshow]\n",
    "Colors = [\"#43281C\" , \"#C06E52\"]\n",
    "plt.figure(figsize=(10,5))\n",
    "plt.bar(conditions,patients_no_show,width=0.5,color=Colors)\n",
    "plt.title('Absences of patients based on SMS receipt')\n",
    "plt.xlabel('SMS Reveived')\n",
    "plt.ylabel('Percentage ');"
   ]
  },
  {
   "cell_type": "markdown",
   "metadata": {},
   "source": [
    "### Answer 6 :\n",
    "    We conclude from the analysis above that patients who did not receive SMS reminders are more likely to miss their               appointments ."
   ]
  },
  {
   "cell_type": "markdown",
   "metadata": {},
   "source": [
    "### Question 7 :\n",
    "    Do patients who have scheduled appointments for the same day show up more for their appointments? "
   ]
  },
  {
   "cell_type": "markdown",
   "metadata": {},
   "source": [
    "To Begin , Let's calculat the percentage of patients who have scheduled appointments for the same day but did not attend their appointments :"
   ]
  },
  {
   "cell_type": "code",
   "execution_count": 66,
   "metadata": {},
   "outputs": [
    {
     "data": {
      "text/html": [
       "<div>\n",
       "<style scoped>\n",
       "    .dataframe tbody tr th:only-of-type {\n",
       "        vertical-align: middle;\n",
       "    }\n",
       "\n",
       "    .dataframe tbody tr th {\n",
       "        vertical-align: top;\n",
       "    }\n",
       "\n",
       "    .dataframe thead th {\n",
       "        text-align: right;\n",
       "    }\n",
       "</style>\n",
       "<table border=\"1\" class=\"dataframe\">\n",
       "  <thead>\n",
       "    <tr style=\"text-align: right;\">\n",
       "      <th></th>\n",
       "      <th>appointmentid</th>\n",
       "      <th>date_scheduled</th>\n",
       "      <th>date_appointment</th>\n",
       "    </tr>\n",
       "  </thead>\n",
       "  <tbody>\n",
       "    <tr>\n",
       "      <th>0</th>\n",
       "      <td>5642903</td>\n",
       "      <td>2016-04-29</td>\n",
       "      <td>2016-04-29</td>\n",
       "    </tr>\n",
       "    <tr>\n",
       "      <th>1</th>\n",
       "      <td>5642503</td>\n",
       "      <td>2016-04-29</td>\n",
       "      <td>2016-04-29</td>\n",
       "    </tr>\n",
       "    <tr>\n",
       "      <th>2</th>\n",
       "      <td>5642549</td>\n",
       "      <td>2016-04-29</td>\n",
       "      <td>2016-04-29</td>\n",
       "    </tr>\n",
       "    <tr>\n",
       "      <th>3</th>\n",
       "      <td>5642828</td>\n",
       "      <td>2016-04-29</td>\n",
       "      <td>2016-04-29</td>\n",
       "    </tr>\n",
       "    <tr>\n",
       "      <th>4</th>\n",
       "      <td>5642494</td>\n",
       "      <td>2016-04-29</td>\n",
       "      <td>2016-04-29</td>\n",
       "    </tr>\n",
       "    <tr>\n",
       "      <th>8</th>\n",
       "      <td>5638447</td>\n",
       "      <td>2016-04-29</td>\n",
       "      <td>2016-04-29</td>\n",
       "    </tr>\n",
       "  </tbody>\n",
       "</table>\n",
       "</div>"
      ],
      "text/plain": [
       "   appointmentid date_scheduled date_appointment\n",
       "0        5642903     2016-04-29       2016-04-29\n",
       "1        5642503     2016-04-29       2016-04-29\n",
       "2        5642549     2016-04-29       2016-04-29\n",
       "3        5642828     2016-04-29       2016-04-29\n",
       "4        5642494     2016-04-29       2016-04-29\n",
       "8        5638447     2016-04-29       2016-04-29"
      ]
     },
     "execution_count": 66,
     "metadata": {},
     "output_type": "execute_result"
    }
   ],
   "source": [
    "# patients who have scheduled appointments for the same day\n",
    "df_patients_sameday=df_app.query('date_scheduled==date_appointment')\n",
    "df_patients_sameday[['appointmentid', 'date_scheduled','date_appointment']].head(6)"
   ]
  },
  {
   "cell_type": "code",
   "execution_count": 67,
   "metadata": {},
   "outputs": [
    {
     "name": "stdout",
     "output_type": "stream",
     "text": [
      "The number of patients who have scheduled appointments for the same day is 38563.\n"
     ]
    }
   ],
   "source": [
    "# Number of patients who have scheduled appointments for the same day\n",
    "patients_sameday = df_patients_sameday['appointmentid'].count()\n",
    "print(f\"The number of patients who have scheduled appointments for the same day is {patients_sameday}.\")"
   ]
  },
  {
   "cell_type": "code",
   "execution_count": 68,
   "metadata": {},
   "outputs": [
    {
     "name": "stdout",
     "output_type": "stream",
     "text": [
      "The number of patients who have scheduled appointments for the same day but did not show up is 38563.\n"
     ]
    }
   ],
   "source": [
    "# Number of patients who have scheduled appointments for the same day but did not attend their appointments\n",
    "patients_sameday_noshow = df_patients_sameday.query('no_show==\"Yes\"')['appointmentid'].count()\n",
    "print(f\"The number of patients who have scheduled appointments for the same day but did not show up is {patients_sameday}.\")"
   ]
  },
  {
   "cell_type": "code",
   "execution_count": 69,
   "metadata": {
    "scrolled": true
   },
   "outputs": [
    {
     "name": "stdout",
     "output_type": "stream",
     "text": [
      "the percentage is 4.65%.\n"
     ]
    }
   ],
   "source": [
    "# percentage of patients who have scheduled appointments for the same day but did not attend their appointments\n",
    "pr_patients_sameday = percentage(patients_sameday_noshow,patients_sameday)\n",
    "print_percentage(pr_patients_sameday)"
   ]
  },
  {
   "cell_type": "markdown",
   "metadata": {},
   "source": [
    "Now , Let's calculat the percentage of patients who did not schedule appointments for the same day and did not attend their appointments :"
   ]
  },
  {
   "cell_type": "code",
   "execution_count": 70,
   "metadata": {},
   "outputs": [
    {
     "data": {
      "text/html": [
       "<div>\n",
       "<style scoped>\n",
       "    .dataframe tbody tr th:only-of-type {\n",
       "        vertical-align: middle;\n",
       "    }\n",
       "\n",
       "    .dataframe tbody tr th {\n",
       "        vertical-align: top;\n",
       "    }\n",
       "\n",
       "    .dataframe thead th {\n",
       "        text-align: right;\n",
       "    }\n",
       "</style>\n",
       "<table border=\"1\" class=\"dataframe\">\n",
       "  <thead>\n",
       "    <tr style=\"text-align: right;\">\n",
       "      <th></th>\n",
       "      <th>appointmentid</th>\n",
       "      <th>date_scheduled</th>\n",
       "      <th>date_appointment</th>\n",
       "    </tr>\n",
       "  </thead>\n",
       "  <tbody>\n",
       "    <tr>\n",
       "      <th>5</th>\n",
       "      <td>5626772</td>\n",
       "      <td>2016-04-27</td>\n",
       "      <td>2016-04-29</td>\n",
       "    </tr>\n",
       "    <tr>\n",
       "      <th>6</th>\n",
       "      <td>5630279</td>\n",
       "      <td>2016-04-27</td>\n",
       "      <td>2016-04-29</td>\n",
       "    </tr>\n",
       "    <tr>\n",
       "      <th>7</th>\n",
       "      <td>5630575</td>\n",
       "      <td>2016-04-27</td>\n",
       "      <td>2016-04-29</td>\n",
       "    </tr>\n",
       "    <tr>\n",
       "      <th>9</th>\n",
       "      <td>5629123</td>\n",
       "      <td>2016-04-27</td>\n",
       "      <td>2016-04-29</td>\n",
       "    </tr>\n",
       "    <tr>\n",
       "      <th>10</th>\n",
       "      <td>5630213</td>\n",
       "      <td>2016-04-27</td>\n",
       "      <td>2016-04-29</td>\n",
       "    </tr>\n",
       "    <tr>\n",
       "      <th>11</th>\n",
       "      <td>5620163</td>\n",
       "      <td>2016-04-26</td>\n",
       "      <td>2016-04-29</td>\n",
       "    </tr>\n",
       "  </tbody>\n",
       "</table>\n",
       "</div>"
      ],
      "text/plain": [
       "    appointmentid date_scheduled date_appointment\n",
       "5         5626772     2016-04-27       2016-04-29\n",
       "6         5630279     2016-04-27       2016-04-29\n",
       "7         5630575     2016-04-27       2016-04-29\n",
       "9         5629123     2016-04-27       2016-04-29\n",
       "10        5630213     2016-04-27       2016-04-29\n",
       "11        5620163     2016-04-26       2016-04-29"
      ]
     },
     "execution_count": 70,
     "metadata": {},
     "output_type": "execute_result"
    }
   ],
   "source": [
    "# patients who did not schedule appointments for the same day\n",
    "df_patients_not_sameday=df_app.query('date_scheduled!=date_appointment')\n",
    "df_patients_not_sameday[['appointmentid', 'date_scheduled','date_appointment']].head(6)"
   ]
  },
  {
   "cell_type": "code",
   "execution_count": 71,
   "metadata": {},
   "outputs": [
    {
     "name": "stdout",
     "output_type": "stream",
     "text": [
      "The number of patients who did not scheduled appointments for the same day is 71964.\n"
     ]
    }
   ],
   "source": [
    "# Number of patients who did not schedule appointments for the same day\n",
    "patients_not_sameday = df_patients_not_sameday['appointmentid'].count()\n",
    "print(f\"The number of patients who did not scheduled appointments for the same day is {patients_not_sameday}.\")"
   ]
  },
  {
   "cell_type": "code",
   "execution_count": 72,
   "metadata": {},
   "outputs": [
    {
     "name": "stdout",
     "output_type": "stream",
     "text": [
      "patients who did not scheduled appointments for the same day but did not show up are 20527.\n"
     ]
    }
   ],
   "source": [
    "# Number of patients who did not schedule appointments for the same day but did not attend their appointments\n",
    "patients_not_sameday_noshow = df_patients_not_sameday.query('no_show==\"Yes\"')['appointmentid'].count()\n",
    "print(f\"patients who did not scheduled appointments for the same day but did not show up are {patients_not_sameday_noshow}.\")"
   ]
  },
  {
   "cell_type": "code",
   "execution_count": 73,
   "metadata": {},
   "outputs": [
    {
     "name": "stdout",
     "output_type": "stream",
     "text": [
      "the percentage is 28.52%.\n"
     ]
    }
   ],
   "source": [
    "# percentage of patients who did not schedule appointments for the same day but did not attend their appointments\n",
    "pr_patients_not_sameday_noshow = percentage(patients_not_sameday_noshow,patients_not_sameday)\n",
    "print_percentage(pr_patients_not_sameday_noshow)"
   ]
  },
  {
   "cell_type": "markdown",
   "metadata": {},
   "source": [
    "Let's compare the results using a bar chart :"
   ]
  },
  {
   "cell_type": "code",
   "execution_count": 74,
   "metadata": {},
   "outputs": [
    {
     "data": {
      "image/png": "[encoded data removed]",
      "text/plain": [
       "<matplotlib.figure.Figure at 0x7f5923398ef0>"
      ]
     },
     "metadata": {
      "needs_background": "light"
     },
     "output_type": "display_data"
    }
   ],
   "source": [
    "appointment_day = np.array(['Sameday appointment','Not sameday appointment'])\n",
    "patients_no_show = [pr_patients_sameday,pr_patients_not_sameday_noshow]\n",
    "Colors = [\"#A2A3BB\" , \"#9395D3\"]\n",
    "plt.figure(figsize=(10,5))\n",
    "plt.bar(appointment_day,patients_no_show,width=0.5,color=Colors)\n",
    "plt.title('Patients absences based on appointment')\n",
    "plt.xlabel('Appointment type')\n",
    "plt.ylabel('Percentage ');"
   ]
  },
  {
   "cell_type": "markdown",
   "metadata": {},
   "source": [
    "### Answer 7 :\n",
    "    We conclude from the analysis above that patients who have scheduled appointments for the same day are more likely to   show up for their appointments ."
   ]
  },
  {
   "cell_type": "markdown",
   "metadata": {},
   "source": [
    "<a id='conclusions'></a>\n",
    "## Conclusions\n",
    "\n",
    "\n",
    "After analyzing this dataset that gathers data from 110k medical appointments in Brazil , we found that 20% of patients didn't show up for the appointements that they schedueled due to a number of factors as fellows :\n",
    "\n",
    "+ **Age** : We found that adults (age between 24 and 64) are more likely to miss their appointments fellowed by children (age between 0 and 14) then youth (age between 14 and 24) and then seniors (age above 64).\n",
    "+ **SMS reception** : Patients that receive a SMS remanding them of their appointment are more likely to show up for it .\n",
    "+ **Date of the appointment** : Patients that scheduled their appointments for the same day are more likely to attend.\n",
    "+ **Handicap and Scholarship**  : Having a scholarship or having a handicap has no effect on whether a patient show up or not .\n",
    "+ **Gender** : Being male or female has no effect on whether a patient show up or not .\n",
    "\n",
    " **Limitations :**\n",
    "During the analysis of this dataset, various limitations emerged , for example :\n",
    "+ The social status of the patients ( upper class , working class , or middle class) is not giving which might be a role in their absenteeism.\n",
    "+ the marital status of the patients ( single, married, widowed, divorced) is also not giving which might be a role in their absenteeism.\n"
   ]
  }
 ],
 "metadata": {
  "kernelspec": {
   "display_name": "Python 3",
   "language": "python",
   "name": "python3"
  },
  "language_info": {
   "codemirror_mode": {
    "name": "ipython",
    "version": 3
   },
   "file_extension": ".py",
   "mimetype": "text/x-python",
   "name": "python",
   "nbconvert_exporter": "python",
   "pygments_lexer": "ipython3",
   "version": "3.6.3"
  }
 },
 "nbformat": 4,
 "nbformat_minor": 2
}
